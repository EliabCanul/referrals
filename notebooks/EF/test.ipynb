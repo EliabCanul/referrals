{
 "cells": [
  {
   "cell_type": "code",
   "execution_count": 1,
   "id": "4ad79e7e",
   "metadata": {},
   "outputs": [],
   "source": [
    "from referrals import managers\n",
    "import os"
   ]
  },
  {
   "cell_type": "code",
   "execution_count": 2,
   "id": "d05731f0",
   "metadata": {},
   "outputs": [
    {
     "name": "stdout",
     "output_type": "stream",
     "text": [
      "c:\\neta-data\\referrals\\notebooks\\EF\n"
     ]
    }
   ],
   "source": [
    "print(os.getcwd())"
   ]
  },
  {
   "cell_type": "code",
   "execution_count": 2,
   "id": "e6eea39d",
   "metadata": {},
   "outputs": [],
   "source": [
    "man = managers.ReferralsAnalysis()"
   ]
  },
  {
   "cell_type": "code",
   "execution_count": 3,
   "id": "05e345ed",
   "metadata": {
    "scrolled": true
   },
   "outputs": [
    {
     "name": "stdout",
     "output_type": "stream",
     "text": [
      "entra\n",
      "query\n"
     ]
    }
   ],
   "source": [
    "user_stages, user_interactions = man.run()"
   ]
  },
  {
   "cell_type": "code",
   "execution_count": 4,
   "id": "92adc697",
   "metadata": {},
   "outputs": [
    {
     "data": {
      "text/plain": [
       "Index(['phone_number', 'user_name', 'n_shares', 'client_id',\n",
       "       'n_distinct_users', 'mean_shares_per_user', 'vir_users', 'coupon',\n",
       "       'delivery_zipcodes', 'delivery_stores', 'vir_physical',\n",
       "       'n_active_weeks', 'vir_temp', 'k_factor', 'active', 'mean_freq',\n",
       "       'mean_gmv', 'mean_aov', 'child_sharing_rate', 'active_child_fracc',\n",
       "       'virality_score', 'user_type'],\n",
       "      dtype='object')"
      ]
     },
     "execution_count": 4,
     "metadata": {},
     "output_type": "execute_result"
    }
   ],
   "source": [
    "user_stages.columns"
   ]
  },
  {
   "cell_type": "code",
   "execution_count": 5,
   "id": "96759530",
   "metadata": {},
   "outputs": [
    {
     "data": {
      "text/plain": [
       "Index(['order_id', 'order_utc', 'coupon_code', 'referrer_client_id',\n",
       "       'referrer_phone_number', 'referrer_name', 'referral_name',\n",
       "       'referral_phone_number', 'referral_client_id', 'week',\n",
       "       'is_new_customer', 'store_name', 'store_id', 'zipcode',\n",
       "       'name_similarity', 'n_interactions', 'zip_code', 'store_id',\n",
       "       'referrer_type'],\n",
       "      dtype='object')"
      ]
     },
     "execution_count": 5,
     "metadata": {},
     "output_type": "execute_result"
    }
   ],
   "source": [
    "user_interactions.columns"
   ]
  },
  {
   "cell_type": "code",
   "execution_count": null,
   "id": "93724d27",
   "metadata": {},
   "outputs": [],
   "source": []
  }
 ],
 "metadata": {
  "kernelspec": {
   "display_name": "Python 3 (ipykernel)",
   "language": "python",
   "name": "python3"
  },
  "language_info": {
   "codemirror_mode": {
    "name": "ipython",
    "version": 3
   },
   "file_extension": ".py",
   "mimetype": "text/x-python",
   "name": "python",
   "nbconvert_exporter": "python",
   "pygments_lexer": "ipython3",
   "version": "3.9.7"
  }
 },
 "nbformat": 4,
 "nbformat_minor": 5
}
